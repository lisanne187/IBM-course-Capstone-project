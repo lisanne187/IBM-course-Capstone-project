{
    "cells": [
        {
            "cell_type": "markdown",
            "metadata": {},
            "source": "# Segmenting and Clustering Neighborhoods in Toronto"
        },
        {
            "cell_type": "code",
            "execution_count": 26,
            "metadata": {},
            "outputs": [],
            "source": "#import libraries\nimport pandas as pd\nimport numpy as np\nimport warnings\nwarnings.filterwarnings(\"ignore\")"
        },
        {
            "cell_type": "markdown",
            "metadata": {},
            "source": "### Read table from the html page and create the dataframe"
        },
        {
            "cell_type": "code",
            "execution_count": 12,
            "metadata": {},
            "outputs": [],
            "source": "#read table from web page with pd.read_html\n#[0] is added to get the first table on the web page with the postal codes of Canada in a dataframe\ncanada_pc = pd.read_html(\"https://en.wikipedia.org/wiki/List_of_postal_codes_of_Canada:_M\", header=0)[0]"
        },
        {
            "cell_type": "code",
            "execution_count": 21,
            "metadata": {},
            "outputs": [],
            "source": "# keep rows that have an assigned Borough\ncanada_pc_clean = canada_pc[canada_pc['Borough']!= 'Not assigned']"
        },
        {
            "cell_type": "code",
            "execution_count": 27,
            "metadata": {},
            "outputs": [],
            "source": "# assign the Borough name to neighbourhoods that are 'Not assigned'\ncanada_pc_clean['neighbourhood_new'] = np.where(canada_pc_clean['Neighbourhood']=='Not assigned',canada_pc_clean['Borough'],canada_pc_clean['Neighbourhood'])"
        },
        {
            "cell_type": "code",
            "execution_count": 41,
            "metadata": {},
            "outputs": [],
            "source": "# combine rows when more than one neighbourhood is having the same postal code\ncanada_pc_final = canada_pc_clean.groupby(['Postcode','Borough'])['neighbourhood_new'].agg(','.join).reset_index()\ncanada_pc_final.columns=['PostalCode','Borough','Neighbourhood']"
        },
        {
            "cell_type": "code",
            "execution_count": 43,
            "metadata": {},
            "outputs": [
                {
                    "data": {
                        "text/html": "<div>\n<style scoped>\n    .dataframe tbody tr th:only-of-type {\n        vertical-align: middle;\n    }\n\n    .dataframe tbody tr th {\n        vertical-align: top;\n    }\n\n    .dataframe thead th {\n        text-align: right;\n    }\n</style>\n<table border=\"1\" class=\"dataframe\">\n  <thead>\n    <tr style=\"text-align: right;\">\n      <th></th>\n      <th>PostalCode</th>\n      <th>Borough</th>\n      <th>Neighbourhood</th>\n    </tr>\n  </thead>\n  <tbody>\n    <tr>\n      <th>0</th>\n      <td>M1B</td>\n      <td>Scarborough</td>\n      <td>Rouge,Malvern</td>\n    </tr>\n    <tr>\n      <th>1</th>\n      <td>M1C</td>\n      <td>Scarborough</td>\n      <td>Highland Creek,Rouge Hill,Port Union</td>\n    </tr>\n    <tr>\n      <th>2</th>\n      <td>M1E</td>\n      <td>Scarborough</td>\n      <td>Guildwood,Morningside,West Hill</td>\n    </tr>\n    <tr>\n      <th>3</th>\n      <td>M1G</td>\n      <td>Scarborough</td>\n      <td>Woburn</td>\n    </tr>\n    <tr>\n      <th>4</th>\n      <td>M1H</td>\n      <td>Scarborough</td>\n      <td>Cedarbrae</td>\n    </tr>\n  </tbody>\n</table>\n</div>",
                        "text/plain": "  PostalCode      Borough                         Neighbourhood\n0        M1B  Scarborough                         Rouge,Malvern\n1        M1C  Scarborough  Highland Creek,Rouge Hill,Port Union\n2        M1E  Scarborough       Guildwood,Morningside,West Hill\n3        M1G  Scarborough                                Woburn\n4        M1H  Scarborough                             Cedarbrae"
                    },
                    "execution_count": 43,
                    "metadata": {},
                    "output_type": "execute_result"
                }
            ],
            "source": "# show the first rows of the dataframe\ncanada_pc_final.head()"
        },
        {
            "cell_type": "code",
            "execution_count": 44,
            "metadata": {},
            "outputs": [
                {
                    "data": {
                        "text/plain": "(103, 3)"
                    },
                    "execution_count": 44,
                    "metadata": {},
                    "output_type": "execute_result"
                }
            ],
            "source": "# find out the shape of the dataframe\ncanada_pc_final.shape"
        },
        {
            "cell_type": "markdown",
            "metadata": {},
            "source": "### Latitude and longitude coordinates of each neighbourhood"
        },
        {
            "cell_type": "code",
            "execution_count": 50,
            "metadata": {},
            "outputs": [],
            "source": "#!pip install geocoder"
        },
        {
            "cell_type": "code",
            "execution_count": 55,
            "metadata": {},
            "outputs": [],
            "source": "# import geocoder # import geocoder\n\n# # initialize your variable to None\n# lat_lng_coords = None\n\n# # loop until you get the coordinates\n# while(lat_lng_coords is None):\n#   g = geocoder.google('{}, Toronto, Ontario'.format(postal_code))\n#   lat_lng_coords = g.latlng\n\n# latitude = lat_lng_coords[0]\n# longitude = lat_lng_coords[1]"
        },
        {
            "cell_type": "code",
            "execution_count": 47,
            "metadata": {},
            "outputs": [],
            "source": "# as the geocoder takes very long and is unreliable, I downloaded the csv to get the latitudes an longitudes of the neighbourhoods\nlat_lon = pd.read_csv('http://cocl.us/Geospatial_data')"
        },
        {
            "cell_type": "code",
            "execution_count": 68,
            "metadata": {},
            "outputs": [],
            "source": "# merge the canada_pc_final dataframe with the lat_lon dataframe\ncanada_pc_ll = canada_pc_final.merge(lat_lon, left_on=['PostalCode'], right_on =['Postal Code'], how='left')"
        },
        {
            "cell_type": "code",
            "execution_count": 69,
            "metadata": {},
            "outputs": [],
            "source": "# drop the Postal Code column\ncanada_pc_ll = canada_pc_ll.drop(columns=['Postal Code'])"
        },
        {
            "cell_type": "code",
            "execution_count": 70,
            "metadata": {},
            "outputs": [
                {
                    "data": {
                        "text/html": "<div>\n<style scoped>\n    .dataframe tbody tr th:only-of-type {\n        vertical-align: middle;\n    }\n\n    .dataframe tbody tr th {\n        vertical-align: top;\n    }\n\n    .dataframe thead th {\n        text-align: right;\n    }\n</style>\n<table border=\"1\" class=\"dataframe\">\n  <thead>\n    <tr style=\"text-align: right;\">\n      <th></th>\n      <th>PostalCode</th>\n      <th>Borough</th>\n      <th>Neighbourhood</th>\n      <th>Latitude</th>\n      <th>Longitude</th>\n    </tr>\n  </thead>\n  <tbody>\n    <tr>\n      <th>0</th>\n      <td>M1B</td>\n      <td>Scarborough</td>\n      <td>Rouge,Malvern</td>\n      <td>43.806686</td>\n      <td>-79.194353</td>\n    </tr>\n    <tr>\n      <th>1</th>\n      <td>M1C</td>\n      <td>Scarborough</td>\n      <td>Highland Creek,Rouge Hill,Port Union</td>\n      <td>43.784535</td>\n      <td>-79.160497</td>\n    </tr>\n    <tr>\n      <th>2</th>\n      <td>M1E</td>\n      <td>Scarborough</td>\n      <td>Guildwood,Morningside,West Hill</td>\n      <td>43.763573</td>\n      <td>-79.188711</td>\n    </tr>\n    <tr>\n      <th>3</th>\n      <td>M1G</td>\n      <td>Scarborough</td>\n      <td>Woburn</td>\n      <td>43.770992</td>\n      <td>-79.216917</td>\n    </tr>\n    <tr>\n      <th>4</th>\n      <td>M1H</td>\n      <td>Scarborough</td>\n      <td>Cedarbrae</td>\n      <td>43.773136</td>\n      <td>-79.239476</td>\n    </tr>\n  </tbody>\n</table>\n</div>",
                        "text/plain": "  PostalCode      Borough                         Neighbourhood   Latitude  \\\n0        M1B  Scarborough                         Rouge,Malvern  43.806686   \n1        M1C  Scarborough  Highland Creek,Rouge Hill,Port Union  43.784535   \n2        M1E  Scarborough       Guildwood,Morningside,West Hill  43.763573   \n3        M1G  Scarborough                                Woburn  43.770992   \n4        M1H  Scarborough                             Cedarbrae  43.773136   \n\n   Longitude  \n0 -79.194353  \n1 -79.160497  \n2 -79.188711  \n3 -79.216917  \n4 -79.239476  "
                    },
                    "execution_count": 70,
                    "metadata": {},
                    "output_type": "execute_result"
                }
            ],
            "source": "canada_pc_ll.head()"
        },
        {
            "cell_type": "code",
            "execution_count": null,
            "metadata": {},
            "outputs": [],
            "source": ""
        }
    ],
    "metadata": {
        "kernelspec": {
            "display_name": "Python 3.6",
            "language": "python",
            "name": "python3"
        },
        "language_info": {
            "codemirror_mode": {
                "name": "ipython",
                "version": 3
            },
            "file_extension": ".py",
            "mimetype": "text/x-python",
            "name": "python",
            "nbconvert_exporter": "python",
            "pygments_lexer": "ipython3",
            "version": "3.6.8"
        }
    },
    "nbformat": 4,
    "nbformat_minor": 1
}